{
 "cells": [
  {
   "cell_type": "code",
   "execution_count": 1,
   "id": "d1bc39c6",
   "metadata": {
    "_cell_guid": "b1076dfc-b9ad-4769-8c92-a6c4dae69d19",
    "_uuid": "8f2839f25d086af736a60e9eeb907d3b93b6e0e5",
    "execution": {
     "iopub.execute_input": "2021-07-16T16:13:54.473812Z",
     "iopub.status.busy": "2021-07-16T16:13:54.473075Z",
     "iopub.status.idle": "2021-07-16T16:13:54.622013Z",
     "shell.execute_reply": "2021-07-16T16:13:54.620896Z",
     "shell.execute_reply.started": "2021-07-16T16:10:23.041319Z"
    },
    "papermill": {
     "duration": 0.163761,
     "end_time": "2021-07-16T16:13:54.622217",
     "exception": false,
     "start_time": "2021-07-16T16:13:54.458456",
     "status": "completed"
    },
    "tags": []
   },
   "outputs": [
    {
     "name": "stdout",
     "output_type": "stream",
     "text": [
      "/kaggle/input/titanic/train.csv\n",
      "/kaggle/input/titanic/test.csv\n",
      "/kaggle/input/titanic/gender_submission.csv\n",
      "0       7\n",
      "1      71\n",
      "2       7\n",
      "3      53\n",
      "4       8\n",
      "       ..\n",
      "886    13\n",
      "887    30\n",
      "888    23\n",
      "889    30\n",
      "890     7\n",
      "Name: Fare, Length: 891, dtype: int64\n"
     ]
    }
   ],
   "source": [
    "# This Python 3 environment comes with many helpful analytics libraries installed\n",
    "# It is defined by the kaggle/python Docker image: https://github.com/kaggle/docker-python\n",
    "# For example, here's several helpful packages to load\n",
    "\n",
    "import numpy as np # linear algebra\n",
    "import pandas as pd # data processing, CSV file I/O (e.g. pd.read_csv)\n",
    "\n",
    "# Input data files are available in the read-only \"../input/\" directory\n",
    "# For example, running this (by clicking run or pressing Shift+Enter) will list all files under the input directory\n",
    "\n",
    "import os\n",
    "for dirname, _, filenames in os.walk('/kaggle/input'):\n",
    "    for filename in filenames:\n",
    "        print(os.path.join(dirname, filename))\n",
    "\n",
    "train_data=pd.read_csv(\"/kaggle/input/titanic/train.csv\")\n",
    "train_data[\"Age\"] = pd.to_numeric(train_data[\"Age\"], downcast='unsigned', errors='coerce')\n",
    "test_data=pd.read_csv(\"/kaggle/input/titanic/test.csv\")\n",
    "test_data[\"Age\"] = pd.to_numeric(test_data[\"Age\"], downcast='unsigned', errors='coerce')\n",
    "train_data[\"Age\"] = train_data[\"Age\"].fillna(0.0).astype(int)\n",
    "test_data[\"Age\"] = test_data[\"Age\"].fillna(0.0).astype(int)\n",
    "train_data[\"Fare\"] = train_data[\"Fare\"].fillna(0.0).astype(int)\n",
    "test_data[\"Fare\"] = test_data[\"Fare\"].fillna(0.0).astype(int)\n",
    "\n",
    "        \n",
    "\n",
    "\n",
    "\n",
    "child=train_data.loc[train_data.Embarked=='C'][\"Survived\"]\n",
    "c_rate=sum(child)/len(child)\n",
    "old=train_data.loc[train_data.Embarked=='S'][\"Survived\"]\n",
    "o_rate=sum(old)/len(old)\n",
    "q=train_data.loc[train_data.Embarked=='Q'][\"Survived\"]\n",
    "q_rate=sum(q)/len(q)\n",
    "\n",
    "#print(c_rate)\n",
    "#print(o_rate)\n",
    "#print(q_rate)\n",
    "print(train_data['Fare'])\n",
    "\n",
    "\n",
    "\n",
    "\n",
    "# You can write up to 20GB to the current directory (/kaggle/working/) that gets preserved as output when you create a version using \"Save & Run All\" \n",
    "# You can also write temporary files to /kaggle/temp/, but they won't be saved outside of the current session"
   ]
  },
  {
   "cell_type": "code",
   "execution_count": 2,
   "id": "c33ed647",
   "metadata": {
    "execution": {
     "iopub.execute_input": "2021-07-16T16:13:54.638699Z",
     "iopub.status.busy": "2021-07-16T16:13:54.637771Z",
     "iopub.status.idle": "2021-07-16T16:13:56.211096Z",
     "shell.execute_reply": "2021-07-16T16:13:56.210463Z",
     "shell.execute_reply.started": "2021-07-16T16:12:35.934980Z"
    },
    "papermill": {
     "duration": 1.584506,
     "end_time": "2021-07-16T16:13:56.211256",
     "exception": false,
     "start_time": "2021-07-16T16:13:54.626750",
     "status": "completed"
    },
    "tags": []
   },
   "outputs": [
    {
     "name": "stdout",
     "output_type": "stream",
     "text": [
      "     PassengerId  Survived\n",
      "0            892         0\n",
      "1            893         0\n",
      "2            894         0\n",
      "3            895         0\n",
      "4            896         1\n",
      "..           ...       ...\n",
      "413         1305         0\n",
      "414         1306         1\n",
      "415         1307         0\n",
      "416         1308         0\n",
      "417         1309         1\n",
      "\n",
      "[418 rows x 2 columns]\n",
      "Your submission was successfully saved!\n"
     ]
    }
   ],
   "source": [
    "from sklearn.ensemble import RandomForestClassifier\n",
    "\n",
    "y = train_data[\"Survived\"]\n",
    "\n",
    "features = [\"Pclass\", \"Sex\",\"Age\",\"SibSp\",\"Parch\",\"Fare\",\"Embarked\"]\n",
    "X = pd.get_dummies(train_data[features])\n",
    "X_test = pd.get_dummies(test_data[features])\n",
    "\n",
    "model = RandomForestClassifier(n_estimators=100,max_depth=6,random_state=1)\n",
    "model.fit(X, y)\n",
    "predictions = model.predict(X_test)\n",
    "\n",
    "output = pd.DataFrame({'PassengerId': test_data.PassengerId, 'Survived': predictions})\n",
    "output.to_csv('my_submission.csv', index=False)\n",
    "print(output)\n",
    "print(\"Your submission was successfully saved!\")\n",
    "\n",
    "\n",
    "\n"
   ]
  }
 ],
 "metadata": {
  "kernelspec": {
   "display_name": "Python 3",
   "language": "python",
   "name": "python3"
  },
  "language_info": {
   "codemirror_mode": {
    "name": "ipython",
    "version": 3
   },
   "file_extension": ".py",
   "mimetype": "text/x-python",
   "name": "python",
   "nbconvert_exporter": "python",
   "pygments_lexer": "ipython3",
   "version": "3.7.10"
  },
  "papermill": {
   "default_parameters": {},
   "duration": 11.863573,
   "end_time": "2021-07-16T16:13:57.448699",
   "environment_variables": {},
   "exception": null,
   "input_path": "__notebook__.ipynb",
   "output_path": "__notebook__.ipynb",
   "parameters": {},
   "start_time": "2021-07-16T16:13:45.585126",
   "version": "2.3.3"
  }
 },
 "nbformat": 4,
 "nbformat_minor": 5
}
